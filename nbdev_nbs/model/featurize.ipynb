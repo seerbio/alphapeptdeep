{
 "cells": [
  {
   "cell_type": "code",
   "execution_count": null,
   "metadata": {},
   "outputs": [],
   "source": [
    "#| default_exp model.featurize"
   ]
  },
  {
   "cell_type": "markdown",
   "metadata": {},
   "source": [
    "# Featurize"
   ]
  },
  {
   "cell_type": "markdown",
   "metadata": {},
   "source": [
    "Functionalities for featurization/tensorization of peptides and modifications"
   ]
  },
  {
   "cell_type": "code",
   "execution_count": null,
   "metadata": {},
   "outputs": [],
   "source": [
    "#| export\n",
    "import numpy as np\n",
    "import pandas as pd\n",
    "from typing import List, Union\n",
    "from alphabase.constants.modification import MOD_CHEM\n",
    "\n",
    "from peptdeep.settings import model_const"
   ]
  },
  {
   "cell_type": "code",
   "execution_count": null,
   "metadata": {},
   "outputs": [],
   "source": [
    "#| export\n",
    "\n",
    "def all_used_mod_elements(mods_chem):\n",
    "    \"\"\"\n",
    "    Collect all chemical elements present in AA modifications.\n",
    "    \"\"\"\n",
    "    # collect all elements observed in mods_chem\n",
    "    used_elems_set = set()\n",
    "    for _, formula in mods_chem.items():\n",
    "        elems = formula.strip(')').split(')')\n",
    "        for elem in elems:\n",
    "            chem, num = elem.split('(')\n",
    "            used_elems_set.add(chem)\n",
    "    # subset mod_elements with used_elems_set\n",
    "    used_mod_elems = []\n",
    "    for elem in model_const['mod_elements']:\n",
    "        if elem in used_elems_set:\n",
    "            used_mod_elems.append(elem)\n",
    "    return used_mod_elems\n",
    "\n",
    "mod_elements = model_const['mod_elements']#all_used_mod_elements(MOD_CHEM)\n",
    "mod_elem_to_idx = dict(zip(mod_elements, range(len(mod_elements))))\n",
    "\n",
    "def _encode_mod_formula(formula, mod_feature_size):\n",
    "    '''\n",
    "    Parse a modification formula to a feature vector\n",
    "    '''\n",
    "    feature = np.zeros(mod_feature_size)\n",
    "    elems = formula.strip(')').split(')')\n",
    "    for elem in elems:\n",
    "        chem, num = elem.split('(')\n",
    "        num  = int(num)\n",
    "        if chem in mod_elem_to_idx:\n",
    "            feature[mod_elem_to_idx[chem]] = num\n",
    "        else:\n",
    "            feature[-1] += num\n",
    "    return feature\n",
    "\n",
    "def encode_all_mod_features(mod_feature_size=len(mod_elements)):\n",
    "    return {modname: _encode_mod_formula(formula, mod_feature_size=mod_feature_size)\n",
    "            for modname, formula in MOD_CHEM.items()}\n",
    "\n",
    "MOD_TO_FEATURE = encode_all_mod_features()\n",
    "mod_feature_size = len(next(iter(MOD_TO_FEATURE.values())))"
   ]
  },
  {
   "cell_type": "code",
   "execution_count": null,
   "metadata": {},
   "outputs": [
    {
     "data": {
      "text/plain": [
       "array([0., 1., 0., 3., 1., 0., 0., 0., 0., 0., 0., 0., 0., 0., 0., 0., 0.,\n",
       "       0., 0., 0., 0., 0., 0., 0., 0., 0., 0., 0., 0., 0., 0., 0., 0., 0.,\n",
       "       0., 0., 0., 0., 0., 0., 0., 0., 0., 0., 0., 0., 0., 0., 0., 0., 0.,\n",
       "       0., 0., 0., 0., 0., 0., 0., 0., 0., 0., 0., 0., 0., 0., 0., 0., 0.,\n",
       "       0., 0., 0., 0., 0., 0., 0., 0., 0., 0., 0., 0., 0., 0., 0., 0., 0.,\n",
       "       0., 0., 0., 0., 0., 0., 0., 0., 0., 0., 0., 0., 0., 0., 0., 0., 0.,\n",
       "       0., 0., 0., 0., 0., 0., 0.])"
      ]
     },
     "execution_count": null,
     "metadata": {},
     "output_type": "execute_result"
    }
   ],
   "source": [
    "#| hide\n",
    "MOD_TO_FEATURE['Phospho@S']"
   ]
  },
  {
   "cell_type": "code",
   "execution_count": null,
   "metadata": {},
   "outputs": [],
   "source": [
    "#| export\n",
    "def parse_mod_feature(\n",
    "    nAA:int, \n",
    "    mod_names:List[str], \n",
    "    mod_sites:List[int]\n",
    ")->np.ndarray:\n",
    "    '''\n",
    "    Get modification feature of a given peptide (len=nAA). \n",
    "    Note that `site=0` is for peptide N-term modification, \n",
    "    `site=1` is for peptide C-term modification, and \n",
    "    `1<=site<=nAA` is for residue modifications on the peptide.\n",
    "\n",
    "    Parameters\n",
    "    ----------\n",
    "    nAA : int\n",
    "        the length of the peptide sequence\n",
    "\n",
    "    mod_names : List[str]\n",
    "        the modification names\n",
    "\n",
    "    mod_sites : List[str]\n",
    "        the modification sites corresponding\n",
    "        to `mod_names` on the peptide\n",
    "\n",
    "    Returns\n",
    "    -------\n",
    "    np.ndarray\n",
    "        2-D feature array with shape `(nAA+2,mod_feature_size)`\n",
    "\n",
    "    '''\n",
    "    mod_x = np.zeros((nAA+2,mod_feature_size))\n",
    "    if len(mod_names) > 0:\n",
    "        mod_x[mod_sites] = [MOD_TO_FEATURE[mod] for mod in mod_names]\n",
    "    return mod_x"
   ]
  },
  {
   "cell_type": "code",
   "execution_count": null,
   "metadata": {},
   "outputs": [],
   "source": [
    "#| hide\n",
    "x = parse_mod_feature(5, ['Acetyl@Protein N-term','Phospho@S','Oxidation@M'], [0,-1,1])\n",
    "assert x.shape == (7, mod_feature_size)\n",
    "assert np.all(x[1,:]==MOD_TO_FEATURE['Oxidation@M'])\n",
    "assert np.all(x[0,:]==MOD_TO_FEATURE['Acetyl@Protein N-term'])\n",
    "assert np.all(x[-1,:]==MOD_TO_FEATURE['Phospho@S'])\n",
    "assert np.all(x[(2,3,4,5),:]==0)"
   ]
  },
  {
   "cell_type": "code",
   "execution_count": null,
   "metadata": {},
   "outputs": [],
   "source": [
    "#| hide\n",
    "x = parse_mod_feature(5, [], [])\n",
    "assert x.shape == (7, mod_feature_size)\n",
    "assert np.all(x==0)"
   ]
  },
  {
   "cell_type": "code",
   "execution_count": null,
   "metadata": {},
   "outputs": [],
   "source": [
    "#| export\n",
    "def get_batch_mod_feature(\n",
    "    batch_df: pd.DataFrame,\n",
    "    *,\n",
    "    nAA: int = None\n",
    ")->np.ndarray:\n",
    "    '''\n",
    "    Parameters\n",
    "    ----------\n",
    "    batch_df : pd.DataFrame\n",
    "        dataframe with 'mods' and 'mod_sites' columns.\n",
    "    nAA : maximal AA sequence length in the dataset. If not specified,\n",
    "        the length of the first element of the 'sequence' is used,\n",
    "        assuming that all sequences in 'batch_df' have the same length.\n",
    "\n",
    "    Returns\n",
    "    -------\n",
    "    np.ndarray\n",
    "        3-D tensor with shape (batch_size, nAA+2, mod_feature_size)\n",
    "    '''\n",
    "    nAA = nAA if nAA != None \\\n",
    "          else batch_df.nAA.values[0] if 'nAA' in batch_df.columns \\\n",
    "          else len(batch_df.sequence.values[0])-2\n",
    "    mod_x_batch = np.zeros((len(batch_df), nAA+2, mod_feature_size))\n",
    "    for i, (mods_str, sites_pos_str) in enumerate(\n",
    "        zip(batch_df.mods.values, batch_df.mod_sites.values)\n",
    "    ):\n",
    "        for mod, site_pos in zip(mods_str.split(';'), sites_pos_str.split(';')):\n",
    "            if len(site_pos)>0 and len(mod)>0:\n",
    "                mod_x_batch[i,int(site_pos),:] = MOD_TO_FEATURE[mod]\n",
    "    return mod_x_batch"
   ]
  },
  {
   "cell_type": "code",
   "execution_count": null,
   "metadata": {},
   "outputs": [],
   "source": [
    "#| export\n",
    "def get_batch_aa_indices(\n",
    "    seq_array: Union[List, np.ndarray]\n",
    ")->np.ndarray:\n",
    "    '''\n",
    "    Convert peptide sequences into AA ID array. ID=0 is reserved for masking,\n",
    "    so ID of 'A' is 1, ID of 'B' is 2, ..., ID of 'Z' is 26 (maximum). \n",
    "    Zeros are padded into the N- and C-terms for each sequence and to fill the\n",
    "    array to the maximum sequence length.\n",
    "    \n",
    "    Parameters\n",
    "    ----------\n",
    "    seq_array : Union[List,np.ndarray]\n",
    "        list or 1-D array of sequences with the same length\n",
    "\n",
    "    Returns\n",
    "    -------\n",
    "    np.ndarray\n",
    "        2-D `np.int32` array with the shape\n",
    "        `(len(seq_array), len(seq_array[0])+2)`. Zeros is padded into the\n",
    "        N- and C-term of each sequence, so the 1st-D is `len(seq_array[0])+2`.\n",
    "\n",
    "    '''\n",
    "    aa_offset = ord('A') - 1\n",
    "    x = np.maximum(\n",
    "            np.array(seq_array).view(np.int32).reshape(len(seq_array), -1),\n",
    "            aa_offset\n",
    "        ) - aa_offset\n",
    "    # padding zeros at the N- and C-term\n",
    "    return np.pad(x, [(0,0)]*(len(x.shape)-1)+[(1,1)])\n",
    "\n",
    "def get_ascii_indices(\n",
    "    seq_array: Union[List, np.ndarray]\n",
    ")->np.ndarray:\n",
    "    '''\n",
    "    Convert peptide sequences into ASCII code array. \n",
    "    The values are from 0 to 127. \n",
    "    Zeros are padded into the N- and C-term for each sequence.\n",
    "\n",
    "    Parameters\n",
    "    ----------\n",
    "    seq_array : Union[List,np.ndarray]\n",
    "        list or 1-D array of sequences.\n",
    "\n",
    "    Returns\n",
    "    -------\n",
    "    np.ndarray\n",
    "        2-D `np.int32` array with the shape\n",
    "        `(len(seq_array), max seq length+2)`. \n",
    "        For the the sequence whose length is shorter than max seq length,\n",
    "        zeros are padded to the missing values.\n",
    "        \n",
    "    '''\n",
    "    \n",
    "    x = np.array(seq_array).view(np.int32).reshape(\n",
    "        len(seq_array), -1\n",
    "    )\n",
    "    return np.pad(x, [(0,0)]*(len(x.shape)-1)+[(1,1)])"
   ]
  },
  {
   "cell_type": "code",
   "execution_count": null,
   "metadata": {},
   "outputs": [],
   "source": [
    "#| hide\n",
    "assert np.all(get_batch_aa_indices(['ABCDE'])==np.array([[0, 1, 2, 3, 4, 5, 0]]))"
   ]
  },
  {
   "cell_type": "code",
   "execution_count": null,
   "metadata": {},
   "outputs": [],
   "source": [
    "#| hide\n",
    "assert np.all(get_batch_aa_indices(['ABCDE','ABCDE'])==np.array([[0, 1, 2, 3, 4, 5, 0],\n",
    "       [0, 1, 2, 3, 4, 5, 0]]))"
   ]
  },
  {
   "cell_type": "code",
   "execution_count": null,
   "metadata": {},
   "outputs": [],
   "source": [
    "#| hide\n",
    "assert np.all(get_ascii_indices(['AB','ABC'])==\n",
    "    np.array([[0, 65, 66,  0, 0],\n",
    "              [0, 65, 66, 67, 0]], \n",
    "    dtype=np.int32)\n",
    ")"
   ]
  },
  {
   "cell_type": "code",
   "execution_count": null,
   "metadata": {},
   "outputs": [],
   "source": [
    "#| export\n",
    "instrument_dict = dict(\n",
    "    zip(\n",
    "        [inst.upper() for inst in model_const['instruments']], \n",
    "        range(len(model_const['instruments']))\n",
    "    )\n",
    ")\n",
    "unknown_inst_index = model_const['max_instrument_num']-1"
   ]
  },
  {
   "cell_type": "code",
   "execution_count": null,
   "metadata": {},
   "outputs": [],
   "source": [
    "#| export\n",
    "def parse_instrument_indices(instrument_list):\n",
    "    instrument_list = [inst.upper() for inst in instrument_list]\n",
    "    instrument_list = [inst for inst in instrument_list]\n",
    "    return [\n",
    "        instrument_dict[inst] if inst in instrument_dict\n",
    "        else unknown_inst_index for inst in instrument_list\n",
    "    ]"
   ]
  },
  {
   "cell_type": "code",
   "execution_count": null,
   "metadata": {},
   "outputs": [
    {
     "data": {
      "text/plain": [
       "{'QE': 0, 'LUMOS': 1, 'TIMSTOF': 2, 'SCIEXTOF': 3}"
      ]
     },
     "execution_count": null,
     "metadata": {},
     "output_type": "execute_result"
    }
   ],
   "source": [
    "#| hide\n",
    "instrument_dict"
   ]
  }
 ],
 "metadata": {
  "kernelspec": {
   "display_name": "Python 3",
   "language": "python",
   "name": "python3"
  }
 },
 "nbformat": 4,
 "nbformat_minor": 2
}
